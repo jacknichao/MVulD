{
 "cells": [
  {
   "cell_type": "code",
   "execution_count": null,
   "metadata": {},
   "outputs": [],
   "source": [
    "import sys\n",
    "import os\n",
    "cur_dir = os.getcwd()\n",
    "pkg_rootdir = os.path.dirname(os.path.dirname(cur_dir))\n",
    "print(pkg_rootdir)\n",
    "if pkg_rootdir not in sys.path:\n",
    "    sys.path.append(pkg_rootdir)\n",
    "from utils import cache_dir, result_dir, get_dir, processed_dir"
   ]
  },
  {
   "cell_type": "code",
   "execution_count": null,
   "metadata": {},
   "outputs": [],
   "source": [
    "# load img path to txt\n",
    "# save form: (img_path,label(buggy=1，clean=0))\n",
    "savedir = get_dir(cache_dir() / 'bigvul' / \"img_txt\")\n",
    "\n",
    "# train_clean_balanced = savedir/\"pre\"/\"train_clean_balanced.txt\"\n",
    "train_clean = savedir/\"pre\"/\"train_clean.txt\"\n",
    "valid_clean= savedir/\"pre\"/\"valid_clean.txt\"\n",
    "test_clean = savedir/\"pre\"/\"test_clean.txt\"\n",
    "\n",
    "# train_vul_balanced = savedir/\"pre\"/\"train_vul_balanced.txt\"\n",
    "train_vul = savedir/\"pre\"/\"train_vul.txt\"\n",
    "valid_vul= savedir/\"pre\"/\"valid_vul.txt\"\n",
    "test_vul = savedir/\"pre\"/\"test_vul.txt\"\n",
    "\n",
    "# train_balanced = savedir/\"total\"/\"train_balanced.txt\"\n",
    "train = savedir/\"total\"/\"train.txt\"\n",
    "valid = savedir/\"total\"/\"valid.txt\"\n",
    "test = savedir/\"total\"/\"test.txt\"\n",
    "\n",
    "# ls -R /data1/username/project/MMVD/baselines/storage/processed/bigvul/imgs/train/clean/*.png >train_pre_path.txt\n",
    "# find /data1/username/project/MMVD/baselines/storage/processed/bigvul/imgs/train/clean/ \n",
    "# -type f -name \"*.png\" > train_pre_clean.txt\n",
    "\n",
    "with open(valid, \"w\") as f1:\n",
    "    with open(valid_clean, \"r\") as f:\n",
    "        for line in f.readlines():\n",
    "            line = line.strip('\\n')\n",
    "            if \"clean\" in line:\n",
    "                line_with_lable=line+\" 0\"+\"\\n\"\n",
    "                f1.write(line_with_lable)\n",
    "            elif \"buggy\" in line:\n",
    "                line_with_lable=line+\" 1\"+\"\\n\" \n",
    "                f1.write(line_with_lable)\n",
    "\n",
    "with open(valid, \"a+\") as f1:\n",
    "    with open(valid_vul, \"r\") as f:\n",
    "        for line in f.readlines():\n",
    "            line = line.strip('\\n') \n",
    "            if \"clean\" in line:\n",
    "                line_with_lable=line+\" 0\"+\"\\n\"\n",
    "                f1.write(line_with_lable)\n",
    "            elif \"buggy\" in line:\n",
    "                line_with_lable=line+\" 1\"+\"\\n\" \n",
    "                f1.write(line_with_lable)\n",
    "\n",
    "# print(len(open(valid).readlines())) # 6510\n",
    "\n",
    "# print(my_lines)"
   ]
  },
  {
   "cell_type": "code",
   "execution_count": null,
   "metadata": {},
   "outputs": [],
   "source": [
    "# print(len(open(train_balanced).readlines())) # 6510\n",
    "print(len(open(train).readlines())) # 77223\n",
    "print(len(open(valid).readlines())) # 9653\n",
    "print(len(open(test).readlines())) # 9653"
   ]
  },
  {
   "cell_type": "code",
   "execution_count": null,
   "metadata": {},
   "outputs": [],
   "source": [
    "train = \"../data/txt/all_balanced/train.txt\" # \n",
    "valid =\"../data/txt/all_balanced/valid.txt\"\n",
    "test = \"../data/txt/all_balanced/test.txt\"\n",
    "print(len(open(train).readlines())) # 77606 6320\n",
    "print(len(open(valid).readlines())) # 9701 790\n",
    "print(len(open(test).readlines())) # 9701 4345\n"
   ]
  },
  {
   "cell_type": "code",
   "execution_count": null,
   "metadata": {},
   "outputs": [],
   "source": [
    "target_txt_path=\"../data/txt/ant_1.6.txt\"\n",
    "\n",
    "target_nolabel_path = \"../data/txt/target_nolable.txt\" \n",
    "\n",
    "\n",
    "# with open(target_txt_path, \"a+\") as f1:\n",
    "#     with open(target_nolabel_path, \"r\") as f:\n",
    "#       \n",
    "#         for line in f.readlines():\n",
    "#             line = line.strip('\\n')  \n",
    "#             if \"clean\" in line:\n",
    "#                 line_with_lable=line+\" 0\"+\"\\n\"\n",
    "#                 f1.write(line_with_lable)\n",
    "#             elif \"buggy\" in line:\n",
    "#                 line_with_lable=line+\" 1\"+\"\\n\"\n",
    "#                 f1.write(line_with_lable)\n",
    "# print(open(target_txt_path).readlines())\n",
    "\n",
    "# from data_list import ImageList\n",
    "# imagelists_train= ImageList(open(source_txt_path).readlines(),\n",
    "#                             transform=transform)"
   ]
  }
 ],
 "metadata": {
  "kernelspec": {
   "display_name": "Python 3.8.2 ('reveal38': conda)",
   "language": "python",
   "name": "python3"
  },
  "language_info": {
   "codemirror_mode": {
    "name": "ipython",
    "version": 3
   },
   "file_extension": ".py",
   "mimetype": "text/x-python",
   "name": "python",
   "nbconvert_exporter": "python",
   "pygments_lexer": "ipython3",
   "version": "3.8.2 (default, Mar 26 2020, 15:53:00) \n[GCC 7.3.0]"
  },
  "orig_nbformat": 4,
  "vscode": {
   "interpreter": {
    "hash": "3975d75c08a432d7b8b72786f25102822b00f1d9aee551e1ae944dc2b86662d4"
   }
  }
 },
 "nbformat": 4,
 "nbformat_minor": 2
}
